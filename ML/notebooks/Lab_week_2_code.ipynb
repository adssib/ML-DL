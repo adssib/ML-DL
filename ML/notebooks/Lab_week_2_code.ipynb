{
  "nbformat": 4,
  "nbformat_minor": 0,
  "metadata": {
    "colab": {
      "provenance": [],
      "gpuType": "T4"
    },
    "kernelspec": {
      "name": "python3",
      "display_name": "Python 3"
    },
    "language_info": {
      "name": "python"
    },
    "accelerator": "GPU"
  },
  "cells": [
    {
      "cell_type": "markdown",
      "source": [
        "Pytorch Implementation defining a simplelayer and trying it out with different activation functions"
      ],
      "metadata": {
        "id": "RYW4RrBMmCXA"
      }
    },
    {
      "cell_type": "code",
      "source": [
        "import pandas as pd\n",
        "import io\n",
        "import torch\n",
        "import torch.nn as nn\n",
        "import torch.optim as optim\n",
        "from sklearn.model_selection import train_test_split\n",
        "\n",
        "# Dataset\n",
        "data = \"\"\"Day No.,Humidity  (%),Temperature (degree Celsius),Rain\n",
        "1,80,20,Yes\n",
        "2,20,15,No\n",
        "3,70,25,Yes\n",
        "4,30,24,Yes\n",
        "5,55,28,No\n",
        "6,68,19,Yes\n",
        "7,45,21,No\n",
        "8,73,17,Yes\n",
        "9,44,16,No\n",
        "10,56,22,No\"\"\"\n",
        "\n",
        "df = pd.read_csv(io.StringIO(data))\n",
        "df['Rain'] = df['Rain'].map({'Yes': 1, 'No': 0})\n",
        "X = torch.tensor(df[['Humidity  (%)', 'Temperature (degree Celsius)']].values, dtype=torch.float32)\n",
        "y = torch.tensor(df['Rain'].values, dtype=torch.float32).unsqueeze(1)\n",
        "\n",
        "# Add Gaussian noise to features (relates to prob PDF section)\n",
        "mean = 0\n",
        "std = 0.1\n",
        "noise = torch.normal(mean, std, size=X.shape)\n",
        "X_noisy = X + noise\n",
        "\n",
        "# Split\n",
        "train_idx, test_idx = train_test_split(range(len(X_noisy)), test_size=0.2, random_state=90)\n",
        "X_train = X_noisy[train_idx]\n",
        "y_train = y[train_idx]\n",
        "X_test = X_noisy[test_idx]\n",
        "y_test = y[test_idx]"
      ],
      "metadata": {
        "id": "x2Bu1uvamQBm"
      },
      "execution_count": null,
      "outputs": []
    },
    {
      "cell_type": "code",
      "source": [
        "class ExtendedLayer(nn.Module):\n",
        "    def __init__(self, input_size=2, hidden_size=4, output_size=1, activation='linear'):\n",
        "        super(ExtendedLayer, self).__init__()\n",
        "        self.fc1 = nn.Linear(input_size, hidden_size)\n",
        "        self.fc2 = nn.Linear(hidden_size, output_size)\n",
        "        self.activation = activation.lower()\n",
        "\n",
        "    def forward(self, x):\n",
        "        x = self.fc1(x)\n",
        "        if self.activation == 'relu':\n",
        "            x = nn.ReLU()(x)\n",
        "        elif self.activation == 'silu':\n",
        "            x = nn.SiLU()(x)\n",
        "        elif self.activation == 'sigmoid':\n",
        "            x = nn.Sigmoid()(x)\n",
        "        elif self.activation == 'tanh':\n",
        "            x = nn.Tanh()(x)\n",
        "        else:\n",
        "            pass  # linear\n",
        "        x = self.fc2(x)\n",
        "        return x\n",
        "\n",
        "def train_and_evaluate_ext(activation):\n",
        "    model = ExtendedLayer(activation=activation)\n",
        "    optimizer = optim.Adam(model.parameters(), lr=0.01)\n",
        "    criterion = nn.BCELoss() if activation in ['sigmoid', 'tanh'] else nn.MSELoss()\n",
        "    sigmoid_output = nn.Sigmoid()\n",
        "\n",
        "    # Train for 200 epochs\n",
        "    for epoch in range(200):\n",
        "        model.train()\n",
        "        optimizer.zero_grad()\n",
        "        outputs = model(X_train)\n",
        "        if activation in ['linear', 'relu', 'silu']: # Apply sigmoid for these activations before BCELoss\n",
        "            outputs = sigmoid_output(outputs)\n",
        "        loss = criterion(outputs, y_train)\n",
        "        loss.backward()\n",
        "        optimizer.step()\n",
        "\n",
        "    # Evaluate\n",
        "    model.eval()\n",
        "    with torch.no_grad():\n",
        "        test_outputs = model(X_test)\n",
        "        if activation in ['linear', 'relu', 'silu']: # Apply sigmoid for these activations before calculating accuracy\n",
        "            test_outputs = sigmoid_output(test_outputs)\n",
        "        preds = (test_outputs > 0.5).float()\n",
        "        acc = (preds == y_test).float().mean().item()\n",
        "\n",
        "    # Eigenvalue analysis on first layer weights (symmetric approx via Gram matrix)\n",
        "    W = model.fc1.weight.data\n",
        "    gram = W.T @ W  # Quadratic form related (PSD if positive eigenvalues)\n",
        "    eigenvalues = torch.linalg.eigvals(gram).real\n",
        "    print(f\"Eigenvalues for {activation}: {eigenvalues.tolist()}\")\n",
        "\n",
        "    return acc\n",
        "\n",
        "# Train and get accuracies\n",
        "linear_acc = train_and_evaluate_ext('linear')\n",
        "relu_acc = train_and_evaluate_ext('relu')\n",
        "silu_acc = train_and_evaluate_ext('silu')\n",
        "#sigmoid_acc = train_and_evaluate_ext('sigmoid')#tanh_acc = train_and_evaluate_ext('tanh')\n",
        "\n",
        "print(f\"Linear Validation Accuracy: {linear_acc}\")\n",
        "print(f\"ReLU Validation Accuracy: {relu_acc}\")\n",
        "print(f\"SiLU Validation Accuracy: {silu_acc}\")\n",
        "#print(f\"Sigmoid Validation Accuracy: {sigmoid_acc}\")\n",
        "#print(f\"Tanh Validation Accuracy: {tanh_acc}\")"
      ],
      "metadata": {
        "colab": {
          "base_uri": "https://localhost:8080/"
        },
        "id": "5Nrg1c7pn1C3",
        "outputId": "fa2e746b-ce2d-4844-b74e-cd0b5bc11f14"
      },
      "execution_count": null,
      "outputs": [
        {
          "output_type": "stream",
          "name": "stdout",
          "text": [
            "Eigenvalues for linear: [0.5283904671669006, 1.1151251792907715]\n",
            "Eigenvalues for relu: [0.26024460792541504, 0.767879843711853]\n",
            "Eigenvalues for silu: [1.0480756759643555, 1.3192983865737915]\n",
            "Linear Validation Accuracy: 0.5\n",
            "ReLU Validation Accuracy: 1.0\n",
            "SiLU Validation Accuracy: 0.5\n"
          ]
        }
      ]
    },
    {
      "cell_type": "markdown",
      "source": [
        "Probabilistic Implementations"
      ],
      "metadata": {
        "id": "qKH18u_aoSy-"
      }
    },
    {
      "cell_type": "markdown",
      "source": [
        "a. Expectations and Variance Computation"
      ],
      "metadata": {
        "id": "b28QUjwVoqcn"
      }
    },
    {
      "cell_type": "code",
      "source": [
        "# Expectation E(X) for features (discrete approx)\n",
        "exp_hum = torch.mean(X[:, 0]).item()\n",
        "exp_temp = torch.mean(X[:, 1]).item()\n",
        "print(f\"E(Humidity): {exp_hum}, E(Temperature): {exp_temp}\")\n",
        "\n",
        "# Variance Var(X)\n",
        "var_hum = torch.var(X[:, 0]).item()\n",
        "var_temp = torch.var(X[:, 1]).item()\n",
        "print(f\"Var(Humidity): {var_hum}, Var(Temperature): {var_temp}\")\n",
        "\n",
        "# Covariance Cov(Humidity, Temperature)\n",
        "cov_matrix = torch.cov(X.T)\n",
        "print(\"Covariance matrix:\\n\", cov_matrix.tolist())"
      ],
      "metadata": {
        "colab": {
          "base_uri": "https://localhost:8080/"
        },
        "id": "s8BuuPNJmV38",
        "outputId": "523872ee-87cb-4ecd-b501-5cab5706a246"
      },
      "execution_count": null,
      "outputs": [
        {
          "output_type": "stream",
          "name": "stdout",
          "text": [
            "E(Humidity): 54.099998474121094, E(Temperature): 20.700000762939453\n",
            "Var(Humidity): 378.54443359375, Var(Temperature): 17.344444274902344\n",
            "Covariance matrix:\n",
            " [[378.54443359375, 13.922221183776855], [13.922221183776855, 17.344444274902344]]\n"
          ]
        }
      ]
    },
    {
      "cell_type": "markdown",
      "source": [
        "b. Conditional Distributions and Independence Check"
      ],
      "metadata": {
        "id": "eq2KUuxEo-fe"
      }
    },
    {
      "cell_type": "code",
      "source": [
        "# Conditional expectation E(Rain|Humidity > mean)\n",
        "high_hum_mask = X[:, 0] > exp_hum\n",
        "cond_exp_rain_high_hum = torch.mean(y[high_hum_mask]).item()\n",
        "print(f\"E(Rain|Humidity > mean): {cond_exp_rain_high_hum}\")\n",
        "\n",
        "# Check approximate independence (cov ~0?)\n",
        "cov_hum_rain = torch.cov(torch.cat((X[:, 0].unsqueeze(0), y.T), dim=0))[0, 1].item()\n",
        "print(f\"Cov(Humidity, Rain) ~0 for independence: {cov_hum_rain}\")"
      ],
      "metadata": {
        "colab": {
          "base_uri": "https://localhost:8080/"
        },
        "id": "eNPkXEkoo1o4",
        "outputId": "7e58a77a-cbb6-4d95-d410-4e87eca0c7c0"
      },
      "execution_count": null,
      "outputs": [
        {
          "output_type": "stream",
          "name": "stdout",
          "text": [
            "E(Rain|Humidity > mean): 0.6666666865348816\n",
            "Cov(Humidity, Rain) ~0 for independence: 5.611111164093018\n"
          ]
        }
      ]
    },
    {
      "cell_type": "markdown",
      "source": [
        "c. Bayes Rule Approximation"
      ],
      "metadata": {
        "id": "BFJzxGFNpFJ2"
      }
    },
    {
      "cell_type": "code",
      "source": [
        "# Priors\n",
        "p_rain = torch.mean(y).item()\n",
        "p_hum_high = (X[:, 0] > exp_hum).float().mean().item()\n",
        "\n",
        "# Likelihood P(Rain|Humidity high)\n",
        "p_rain_given_high_hum = torch.mean(y[high_hum_mask]).item()\n",
        "\n",
        "# Posterior\n",
        "p_high_hum_given_rain = (p_rain_given_high_hum * p_hum_high) / p_rain\n",
        "print(f\"P(High Humidity|Rain) via Bayes: {p_high_hum_given_rain}\")"
      ],
      "metadata": {
        "colab": {
          "base_uri": "https://localhost:8080/"
        },
        "id": "2LzZOeZ7pEf0",
        "outputId": "c992f347-3130-49ac-a6be-31ae11abf66e"
      },
      "execution_count": null,
      "outputs": [
        {
          "output_type": "stream",
          "name": "stdout",
          "text": [
            "P(High Humidity|Rain) via Bayes: 0.8000000556310027\n"
          ]
        }
      ]
    },
    {
      "cell_type": "markdown",
      "source": [
        "d. Sampling from Distributions (Bernoulli, Poisson, Gaussian)"
      ],
      "metadata": {
        "id": "kU1eJF8JpdJP"
      }
    },
    {
      "cell_type": "code",
      "source": [
        "# Bernoulli for simulated labels\n",
        "bern_p = 0.3  # From dataset rain prob\n",
        "bern_samples = torch.distributions.Bernoulli(probs=bern_p).sample((10, 1))\n",
        "print(\"Bernoulli samples (sim rain):\\n\", bern_samples.tolist())\n",
        "\n",
        "# Poisson for simulated event counts (e.g., rain days)\n",
        "pois_lambda = 3.0\n",
        "pois_samples = torch.distributions.Poisson(rate=pois_lambda).sample((10,))\n",
        "print(\"Poisson samples:\\n\", pois_samples.tolist())\n",
        "\n",
        "# Gaussian for noisy features\n",
        "gauss_mean = torch.tensor([exp_hum, exp_temp])\n",
        "gauss_cov = cov_matrix\n",
        "gauss_dist = torch.distributions.MultivariateNormal(gauss_mean, gauss_cov)\n",
        "gauss_samples = gauss_dist.sample((5,))\n",
        "print(\"Gaussian samples:\\n\", gauss_samples.tolist())"
      ],
      "metadata": {
        "colab": {
          "base_uri": "https://localhost:8080/"
        },
        "id": "o6oaN_d_pQ1n",
        "outputId": "69243eb7-a950-4d16-a626-9347759e9aac"
      },
      "execution_count": null,
      "outputs": [
        {
          "output_type": "stream",
          "name": "stdout",
          "text": [
            "Bernoulli samples (sim rain):\n",
            " [[0.0], [0.0], [0.0], [0.0], [0.0], [1.0], [0.0], [1.0], [0.0], [1.0]]\n",
            "Poisson samples:\n",
            " [2.0, 3.0, 4.0, 3.0, 5.0, 1.0, 3.0, 2.0, 2.0, 7.0]\n",
            "Gaussian samples:\n",
            " [[38.422908782958984, 19.886516571044922], [62.206932067871094, 17.692588806152344], [57.98236083984375, 22.325788497924805], [72.23552703857422, 22.396703720092773], [49.999847412109375, 18.946880340576172]]\n"
          ]
        }
      ]
    },
    {
      "cell_type": "markdown",
      "source": [
        "e. Jensen's Inequality Demo"
      ],
      "metadata": {
        "id": "8q289XzaqtCI"
      }
    },
    {
      "cell_type": "code",
      "source": [
        "# Convex function f(x) = x^2, apply to humidity\n",
        "hum_vals = X[:, 0]\n",
        "exp_f = torch.mean(hum_vals ** 2).item()\n",
        "f_exp = (torch.mean(hum_vals) ** 2).item()\n",
        "print(f\"Jensen: E(f(X))={exp_f} >= f(E(X))={f_exp}\")"
      ],
      "metadata": {
        "colab": {
          "base_uri": "https://localhost:8080/"
        },
        "id": "7SPYQwXDqpyn",
        "outputId": "2c5afef9-8842-4ffc-a544-e9e726cfd871"
      },
      "execution_count": null,
      "outputs": [
        {
          "output_type": "stream",
          "name": "stdout",
          "text": [
            "Jensen: E(f(X))=3267.5 >= f(E(X))=2926.809814453125\n"
          ]
        }
      ]
    },
    {
      "cell_type": "markdown",
      "source": [
        "Linear Algebra Implementations"
      ],
      "metadata": {
        "id": "0BObpHMRqxCY"
      }
    },
    {
      "cell_type": "markdown",
      "source": [
        "a. Trace, Determinant, and Inverse"
      ],
      "metadata": {
        "id": "rIdumNnYq3a_"
      }
    },
    {
      "cell_type": "code",
      "source": [
        "# Cov matrix from prob section\n",
        "print(f\"Trace of cov: {torch.trace(cov_matrix).item()}\")\n",
        "\n",
        "# Determinant (for PSD check, |cov| >0)\n",
        "det_cov = torch.det(cov_matrix).item()\n",
        "print(f\"Det of cov: {det_cov}\")\n",
        "\n",
        "# Inverse (if invertible)\n",
        "if det_cov != 0:\n",
        "    inv_cov = torch.inverse(cov_matrix)\n",
        "    print(\"Inverse cov:\\n\", inv_cov.tolist())"
      ],
      "metadata": {
        "colab": {
          "base_uri": "https://localhost:8080/"
        },
        "id": "eYEJy8JAqwA_",
        "outputId": "d9061ad6-40d2-4426-fcee-09dcca9fc28d"
      },
      "execution_count": null,
      "outputs": [
        {
          "output_type": "stream",
          "name": "stdout",
          "text": [
            "Trace of cov: 395.8888854980469\n",
            "Det of cov: 6371.814453125\n",
            "Inverse cov:\n",
            " [[0.002722057281062007, -0.0021849696058779955], [-0.0021849696058779955, 0.05940920487046242]]\n"
          ]
        }
      ]
    },
    {
      "cell_type": "markdown",
      "source": [
        "b. Norms and Rank"
      ],
      "metadata": {
        "id": "74kOLg7Kq7TY"
      }
    },
    {
      "cell_type": "code",
      "source": [
        "# L2 norm of first feature vector\n",
        "l2_norm = torch.norm(X[0]).item()\n",
        "print(f\"L2 norm of first sample: {l2_norm}\")\n",
        "\n",
        "# L1 norm\n",
        "l1_norm = torch.norm(X[0], p=1).item()\n",
        "print(f\"L1 norm: {l1_norm}\")\n",
        "\n",
        "# Matrix rank (full rank=2 for 2 features)\n",
        "rank_X = torch.linalg.matrix_rank(X.T @ X).item()  # Gram for stability\n",
        "print(f\"Rank of data matrix: {rank_X}\")"
      ],
      "metadata": {
        "colab": {
          "base_uri": "https://localhost:8080/"
        },
        "id": "cW5IwCE-q6On",
        "outputId": "404e495a-ed15-484b-8f7a-47151ee542a3"
      },
      "execution_count": null,
      "outputs": [
        {
          "output_type": "stream",
          "name": "stdout",
          "text": [
            "L2 norm of first sample: 82.46211242675781\n",
            "L1 norm: 100.0\n",
            "Rank of data matrix: 2\n"
          ]
        }
      ]
    },
    {
      "cell_type": "markdown",
      "source": [
        "c. Eigenvalues/Eigenvectors and Quadratic Form"
      ],
      "metadata": {
        "id": "whS-N2wFrBxm"
      }
    },
    {
      "cell_type": "code",
      "source": [
        "# Eigen decomp of cov (symmetric, relates to PSD)\n",
        "eigvals, eigvecs = torch.linalg.eigh(cov_matrix)\n",
        "print(\"Eigenvalues:\\n\", eigvals.tolist())\n",
        "print(\"Eigenvectors:\\n\", eigvecs.tolist())\n",
        "\n",
        "# Quadratic form x^T A x (A=cov, x=first sample)\n",
        "quad_form = (X[0].T @ cov_matrix @ X[0]).item()\n",
        "print(f\"Quadratic form: {quad_form}\")"
      ],
      "metadata": {
        "colab": {
          "base_uri": "https://localhost:8080/"
        },
        "id": "ZrVB12-lrGBq",
        "outputId": "d569e69a-5821-43d8-f59c-abba7eebce9d"
      },
      "execution_count": null,
      "outputs": [
        {
          "output_type": "stream",
          "name": "stdout",
          "text": [
            "Eigenvalues:\n",
            " [16.808616638183594, 379.08026123046875]\n",
            "Eigenvectors:\n",
            " [[0.03845878317952156, -0.9992601275444031], [-0.9992601275444031, -0.03845878317952156]]\n",
            "Quadratic form: 2474173.25\n"
          ]
        },
        {
          "output_type": "stream",
          "name": "stderr",
          "text": [
            "/tmp/ipython-input-402037194.py:7: UserWarning: The use of `x.T` on tensors of dimension other than 2 to reverse their shape is deprecated and it will throw an error in a future release. Consider `x.mT` to transpose batches of matrices or `x.permute(*torch.arange(x.ndim - 1, -1, -1))` to reverse the dimensions of a tensor. (Triggered internally at /pytorch/aten/src/ATen/native/TensorShape.cpp:4421.)\n",
            "  quad_form = (X[0].T @ cov_matrix @ X[0]).item()\n"
          ]
        }
      ]
    },
    {
      "cell_type": "markdown",
      "source": [
        "d. Matrix Transpose and Hadamard Product"
      ],
      "metadata": {
        "id": "Zb63sJ0nrxkg"
      }
    },
    {
      "cell_type": "code",
      "source": [
        "# Transpose of X\n",
        "X_transpose = X.T\n",
        "print(\"X transpose shape:\", X_transpose.shape)\n",
        "\n",
        "# Hadamard product (element-wise) of first two rows\n",
        "hadamard_prod = X[0] * X[1]\n",
        "print(\"Hadamard product of rows 0 and 1:\\n\", hadamard_prod.tolist())"
      ],
      "metadata": {
        "colab": {
          "base_uri": "https://localhost:8080/"
        },
        "id": "zrOgL_lNr0E_",
        "outputId": "7aafdad8-1583-4834-ba4a-22794f660901"
      },
      "execution_count": null,
      "outputs": [
        {
          "output_type": "stream",
          "name": "stdout",
          "text": [
            "X transpose shape: torch.Size([2, 10])\n",
            "Hadamard product of rows 0 and 1:\n",
            " [1600.0, 300.0]\n"
          ]
        }
      ]
    },
    {
      "cell_type": "markdown",
      "source": [
        "e. Orthogonal Matrix Construction"
      ],
      "metadata": {
        "id": "RGxcUVD0sM39"
      }
    },
    {
      "cell_type": "code",
      "source": [
        "# Generate a random matrix (e.g., from data covariance or weights)\n",
        "random_mat = cov_matrix + torch.randn(2, 2)  # Perturb for diversity\n",
        "\n",
        "# QR decomposition to get orthogonal Q\n",
        "Q, R = torch.linalg.qr(random_mat)\n",
        "print(\"Orthogonal Matrix Q:\\n\", Q.tolist())\n",
        "\n",
        "# Verify orthogonality: Q^T Q should be identity\n",
        "Q_t_Q = Q.T @ Q\n",
        "print(\"Q^T Q (should be identity):\\n\", Q_t_Q.tolist())"
      ],
      "metadata": {
        "colab": {
          "base_uri": "https://localhost:8080/"
        },
        "id": "hmubcb0MsN0O",
        "outputId": "f5b4b18b-5f4b-43ba-f47e-4d6fa742f7f6"
      },
      "execution_count": null,
      "outputs": [
        {
          "output_type": "stream",
          "name": "stdout",
          "text": [
            "Orthogonal Matrix Q:\n",
            " [[-0.9992358684539795, -0.039084240794181824], [-0.039084240794181824, 0.9992359280586243]]\n",
            "Q^T Q (should be identity):\n",
            " [[0.9999999403953552, -3.725290298461914e-09], [-3.725290298461914e-09, 1.0]]\n"
          ]
        }
      ]
    }
  ]
}