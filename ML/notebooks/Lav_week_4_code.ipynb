{
  "nbformat": 4,
  "nbformat_minor": 0,
  "metadata": {
    "colab": {
      "provenance": []
    },
    "kernelspec": {
      "name": "python3",
      "display_name": "Python 3"
    },
    "language_info": {
      "name": "python"
    }
  },
  "cells": [
    {
      "cell_type": "markdown",
      "source": [
        "# $\\textbf{LAB 04: Logistic Regression}$\n",
        "\n",
        "## $\\Large\\textbf{Main Points}$\n",
        "\n",
        "### $\\textit{Topics we will cover:}$\n",
        "\n",
        "* $\\bullet$ Implement logistic regression classifier with sigmoid activation\n",
        "* $\\bullet$ Code gradient descent optimization from scratch  \n",
        "* $\\bullet$ Build the model that outputs probabilities instead of hard decisions\n",
        "* $\\bullet$ Track loss convergence during training\n",
        "* $\\bullet$ Compare performance on training and test data\n",
        "* $\\bullet$ Example using sklearn's LogisticRegression\n",
        "\n",
        "---\n",
        "\n",
        "For visualization of gradient descent: [Gradient Descent Visualizer](https://www.deeplearning.ai/ai-notes/optimization/) (Near the end of the page)\n",
        "\n",
        "---\n"
      ],
      "metadata": {
        "id": "zdV4fxga9Att"
      }
    },
    {
      "cell_type": "code",
      "source": [
        "import numpy as np\n",
        "import pandas as pd\n",
        "import matplotlib.pyplot as plt\n",
        "from sklearn.model_selection import train_test_split\n",
        "from sklearn.datasets import load_breast_cancer\n",
        "from sklearn.preprocessing import StandardScaler"
      ],
      "metadata": {
        "id": "uriM9sLs8Egd"
      },
      "execution_count": null,
      "outputs": []
    },
    {
      "cell_type": "markdown",
      "source": [
        "\n",
        "## $\\textbf{The Dataset: Tumor Classification}$\n",
        "\n",
        "We use breast cancer data predicting whether a tumor is malignant based on:\n",
        "\n",
        "* $\\textbf{Tumor Radius}$: Size of the tumor (normalized)\n",
        "* $\\textbf{Tumor Texture}$: Roughness measurement (normalized)\n",
        "* $\\textbf{Target}$: Binary classification - Benign (1) / Malignant (0)\n",
        "\n",
        "\n",
        "---"
      ],
      "metadata": {
        "id": "nEQMhylKDc28"
      }
    },
    {
      "cell_type": "markdown",
      "source": [
        "# Part 1: Data loading"
      ],
      "metadata": {
        "id": "XgGP2lL59siP"
      }
    },
    {
      "cell_type": "code",
      "source": [
        "data = load_breast_cancer() # breast cancer dataset from sklearn\n",
        "\n",
        "# here we will only use first 2 features\n",
        "\n",
        "X = data.data[:, [0, 1]]  # radius and texture\n",
        "y = data.target  # 1 = benign, 0 = malignant\n",
        "\n",
        "\n",
        "\n",
        "# create dataframe\n",
        "df = pd.DataFrame(X, columns=['radius', 'texture'])\n",
        "df['diagnosis'] = y\n",
        "\n",
        "\n",
        "\n",
        "\n",
        "print(df.head())\n",
        "print(f\"Dataset shape: {df.shape}\")\n",
        "print(f\"Benign samples: {(y == 1).sum()}\")\n",
        "print(f\"Malignant samples: {(y == 0).sum()}\")\n",
        "\n",
        "\n",
        "\n",
        "# Normalization, note from last lab, we also went over the effect of this on the model's result\n",
        "X_mean = X.mean(axis=0)\n",
        "X_std = X.std(axis=0)\n",
        "X_normalized = (X - X_mean) / X_std\n",
        "\n",
        "\n",
        "\n",
        "\n",
        "print(f\"Feature dimensions: {X_normalized.shape}\")\n",
        "print(f\"Number of samples: {len(y)}\")"
      ],
      "metadata": {
        "colab": {
          "base_uri": "https://localhost:8080/"
        },
        "id": "4Z6sLMtf8G0h",
        "outputId": "9cdcefb5-833b-43fb-e325-df66b9bcb3ec"
      },
      "execution_count": null,
      "outputs": [
        {
          "output_type": "stream",
          "name": "stdout",
          "text": [
            "   radius  texture  diagnosis\n",
            "0   17.99    10.38          0\n",
            "1   20.57    17.77          0\n",
            "2   19.69    21.25          0\n",
            "3   11.42    20.38          0\n",
            "4   20.29    14.34          0\n",
            "Dataset shape: (569, 3)\n",
            "Benign samples: 357\n",
            "Malignant samples: 212\n",
            "Feature dimensions: (569, 2)\n",
            "Number of samples: 569\n"
          ]
        }
      ]
    },
    {
      "cell_type": "markdown",
      "source": [
        "# Part 2: Implement Logistic Regression\n",
        "\n",
        "### Logistic Regression\n",
        "The model outputs probability using sigmoid function:\n",
        "\n",
        "$p = \\sigma(\\theta^T X + \\theta_0) = \\frac{1}{1 + e^{-(\\theta^T X + \\theta_0)}}$\n",
        "\n",
        "where sigmoid squashes any value to range (0, 1)"
      ],
      "metadata": {
        "id": "_yt5yodi-GXs"
      }
    },
    {
      "cell_type": "code",
      "source": [
        "class LogisticRegression:\n",
        "\n",
        "    def __init__(self, learning_rate=0.1, n_iterations=300):\n",
        "        self.learning_rate = learning_rate\n",
        "        self.n_iterations = n_iterations\n",
        "        self.theta = None\n",
        "        self.theta0 = None\n",
        "        self.loss_history = []\n",
        "\n",
        "    def sigmoid(self, z):\n",
        "        return 1 / (1 + np.exp(-z))\n",
        "\n",
        "    def compute_loss(self, X, y):  # negative log likelihood\n",
        "\n",
        "        m = len(y)\n",
        "        z = X.dot(self.theta) + self.theta0\n",
        "        predictions = self.sigmoid(z)\n",
        "\n",
        "\n",
        "        epsilon = 1e-7 # we will just define this to avoid having a log(0)\n",
        "        predictions = np.clip(predictions, epsilon, 1 - epsilon)\n",
        "\n",
        "        loss = -np.mean(y * np.log(predictions) + (1 - y) * np.log(1 - predictions))\n",
        "        return loss\n",
        "\n",
        "    def fit(self, X, y):\n",
        "\n",
        "        n_samples, n_features = X.shape                      # initialization of parameters\n",
        "        self.theta = np.random.randn(n_features) * 0.01      # initialization of parameters\n",
        "        self.theta0 = 0                                      # initialization of parameters\n",
        "\n",
        "\n",
        "        for iteration in range(self.n_iterations):   # ---------> Here we begin the gradient descent\n",
        "            # forward pass\n",
        "            z = X.dot(self.theta) + self.theta0\n",
        "            predictions = self.sigmoid(z)\n",
        "\n",
        "            # compute loss\n",
        "            loss = self.compute_loss(X, y)\n",
        "            self.loss_history.append(loss)\n",
        "\n",
        "            # compute gradients\n",
        "            errors = predictions - y\n",
        "            grad_theta = (1/n_samples) * X.T.dot(errors)\n",
        "            grad_theta0 = (1/n_samples) * np.sum(errors)\n",
        "\n",
        "            # update parameters\n",
        "            self.theta -= self.learning_rate * grad_theta\n",
        "            self.theta0 -= self.learning_rate * grad_theta0\n",
        "\n",
        "            if iteration % 50 == 0:\n",
        "                print(f\"  Iteration {iteration}: Loss = {loss:.3f}\")\n",
        "\n",
        "        return self\n",
        "\n",
        "    def predict_proba(self, X):\n",
        "        z = X.dot(self.theta) + self.theta0\n",
        "        return self.sigmoid(z)\n",
        "\n",
        "    def predict(self, X):\n",
        "        return (self.predict_proba(X) >= 0.5).astype(int)\n",
        "\n",
        "    def score(self, X, y):\n",
        "        predictions = self.predict(X)\n",
        "        return np.mean(predictions == y)"
      ],
      "metadata": {
        "id": "5OPs93KF8Lal"
      },
      "execution_count": null,
      "outputs": []
    },
    {
      "cell_type": "markdown",
      "source": [
        "# Part 3: Train and Evaluate"
      ],
      "metadata": {
        "id": "ysrcpe2t_CJU"
      }
    },
    {
      "cell_type": "code",
      "source": [
        "X_train, X_test, y_train, y_test = train_test_split( X_normalized, y, test_size=0.3, random_state=42) #  data splitting into training and test sets\n",
        "\n",
        "print(f\"Training samples: {len(X_train)}\")\n",
        "print(f\"Test samples: {len(X_test)}\")"
      ],
      "metadata": {
        "colab": {
          "base_uri": "https://localhost:8080/"
        },
        "id": "9rfpKV4G8PZD",
        "outputId": "1f438bc6-4c0a-4501-d3ec-ae63b6fd420e"
      },
      "execution_count": null,
      "outputs": [
        {
          "output_type": "stream",
          "name": "stdout",
          "text": [
            "Training samples: 398\n",
            "Test samples: 171\n"
          ]
        }
      ]
    },
    {
      "cell_type": "code",
      "source": [
        "learning_rates = [0.01, 0.1, 1.0, 5.0]\n",
        "results = []\n",
        "\n",
        "best_model = None\n",
        "best_accuracy = 0\n",
        "\n",
        "\n",
        "\n",
        "for lr in learning_rates:\n",
        "    print(f\" going over with learning rate = {lr}\")\n",
        "    model = LogisticRegression(learning_rate=lr, n_iterations=200)\n",
        "    model.fit(X_train, y_train)\n",
        "\n",
        "    train_acc = model.score(X_train, y_train)\n",
        "    test_acc = model.score(X_test, y_test)\n",
        "\n",
        "    results.append({\n",
        "        'learning_rate': lr,\n",
        "        'train_acc': train_acc * 100,\n",
        "        'test_acc': test_acc * 100,\n",
        "        'final_loss': model.loss_history[-1]\n",
        "    })\n",
        "\n",
        "    if test_acc > best_accuracy:\n",
        "        best_accuracy = test_acc\n",
        "        best_model = model\n",
        "        best_lr = lr\n",
        "\n",
        "\n",
        "    print(f\"Training accuracy: {train_acc:}\")\n",
        "\n",
        "    print(f\"  Test accuracy: {test_acc:}\")"
      ],
      "metadata": {
        "colab": {
          "base_uri": "https://localhost:8080/"
        },
        "id": "ZPhbSkoy_UTo",
        "outputId": "fbd69fa0-f20c-4534-f6c3-7754882e74e8"
      },
      "execution_count": null,
      "outputs": [
        {
          "output_type": "stream",
          "name": "stdout",
          "text": [
            " going over with learning rate = 0.01\n",
            "  Iteration 0: Loss = 0.690\n",
            "  Iteration 50: Loss = 0.617\n",
            "  Iteration 100: Loss = 0.562\n",
            "  Iteration 150: Loss = 0.520\n",
            "Training accuracy: 0.8793969849246231\n",
            "  Test accuracy: 0.8888888888888888\n",
            " going over with learning rate = 0.1\n",
            "  Iteration 0: Loss = 0.686\n",
            "  Iteration 50: Loss = 0.387\n",
            "  Iteration 100: Loss = 0.333\n",
            "  Iteration 150: Loss = 0.311\n",
            "Training accuracy: 0.8844221105527639\n",
            "  Test accuracy: 0.9064327485380117\n",
            " going over with learning rate = 1.0\n",
            "  Iteration 0: Loss = 0.690\n",
            "  Iteration 50: Loss = 0.282\n",
            "  Iteration 100: Loss = 0.278\n",
            "  Iteration 150: Loss = 0.278\n",
            "Training accuracy: 0.8894472361809045\n",
            "  Test accuracy: 0.9064327485380117\n",
            " going over with learning rate = 5.0\n",
            "  Iteration 0: Loss = 0.695\n",
            "  Iteration 50: Loss = 0.278\n",
            "  Iteration 100: Loss = 0.278\n",
            "  Iteration 150: Loss = 0.278\n",
            "Training accuracy: 0.8894472361809045\n",
            "  Test accuracy: 0.9064327485380117\n"
          ]
        }
      ]
    },
    {
      "cell_type": "markdown",
      "source": [
        "# Part 4: Visualize the results"
      ],
      "metadata": {
        "id": "xX65b0_m_QCq"
      }
    },
    {
      "cell_type": "code",
      "source": [
        "results_df = pd.DataFrame(results)\n",
        "print(results_df)"
      ],
      "metadata": {
        "colab": {
          "base_uri": "https://localhost:8080/"
        },
        "id": "bHKHq8kM8XH4",
        "outputId": "7d4b0551-8c8c-4f36-ca0d-03fe44ba68e2"
      },
      "execution_count": null,
      "outputs": [
        {
          "output_type": "stream",
          "name": "stdout",
          "text": [
            "   learning_rate  train_acc   test_acc  final_loss\n",
            "0           0.01  87.939698  88.888889    0.488658\n",
            "1           0.10  88.442211  90.643275    0.300378\n",
            "2           1.00  88.944724  90.643275    0.277936\n",
            "3           5.00  88.944724  90.643275    0.277924\n"
          ]
        }
      ]
    },
    {
      "cell_type": "code",
      "source": [
        "\n",
        "for i, lr in enumerate(learning_rates[:4]):  # here we try to plot the 4 curves\n",
        "    model = LogisticRegression(learning_rate=lr, n_iterations=300)\n",
        "    model.fit(X_train, y_train)\n",
        "    plt.plot(model.loss_history, label=f'LR={lr}')\n",
        "\n",
        "\n",
        "plt.xlabel('Iteration')\n",
        "plt.ylabel('Loss')\n",
        "plt.title('Loss Convergence')\n",
        "plt.legend()\n",
        "plt.grid(alpha=0.3)\n"
      ],
      "metadata": {
        "colab": {
          "base_uri": "https://localhost:8080/",
          "height": 888
        },
        "id": "K-uf-N-_IJr-",
        "outputId": "29f46a40-5bd1-465c-dd87-1b108347aaf8"
      },
      "execution_count": null,
      "outputs": [
        {
          "output_type": "stream",
          "name": "stdout",
          "text": [
            "  Iteration 0: Loss = 0.701\n",
            "  Iteration 50: Loss = 0.625\n",
            "  Iteration 100: Loss = 0.568\n",
            "  Iteration 150: Loss = 0.525\n",
            "  Iteration 200: Loss = 0.492\n",
            "  Iteration 250: Loss = 0.465\n",
            "  Iteration 0: Loss = 0.698\n",
            "  Iteration 50: Loss = 0.388\n",
            "  Iteration 100: Loss = 0.333\n",
            "  Iteration 150: Loss = 0.312\n",
            "  Iteration 200: Loss = 0.300\n",
            "  Iteration 250: Loss = 0.294\n",
            "  Iteration 0: Loss = 0.697\n",
            "  Iteration 50: Loss = 0.282\n",
            "  Iteration 100: Loss = 0.278\n",
            "  Iteration 150: Loss = 0.278\n",
            "  Iteration 200: Loss = 0.278\n",
            "  Iteration 250: Loss = 0.278\n",
            "  Iteration 0: Loss = 0.691\n",
            "  Iteration 50: Loss = 0.278\n",
            "  Iteration 100: Loss = 0.278\n",
            "  Iteration 150: Loss = 0.278\n",
            "  Iteration 200: Loss = 0.278\n",
            "  Iteration 250: Loss = 0.278\n"
          ]
        },
        {
          "output_type": "display_data",
          "data": {
            "text/plain": [
              "<Figure size 640x480 with 1 Axes>"
            ],
            "image/png": "[encoded data removed]"
          },
          "metadata": {}
        }
      ]
    },
    {
      "cell_type": "markdown",
      "source": [
        "# Part 6: Analyzing Predictions\n",
        "This is a simple confidence check, the goal from this is to get the least confident and the most confident predictions\n"
      ],
      "metadata": {
        "id": "yEun3UFuCn-z"
      }
    },
    {
      "cell_type": "code",
      "source": [
        "test_probs = best_model.predict_proba(X_test) # getting the saved predictions\n",
        "\n",
        "confidence = np.abs(test_probs - 0.5) * 2  # convert to 0-1 scale\n",
        "most_confident = np.argmax(confidence)\n",
        "least_confident = np.argmin(confidence)\n",
        "\n",
        "print(f\"Most confident: P={test_probs[most_confident]:}\")\n",
        "print(f\"Least confident: P={test_probs[least_confident]:}\")"
      ],
      "metadata": {
        "colab": {
          "base_uri": "https://localhost:8080/"
        },
        "id": "S8MDDpzD8ggx",
        "outputId": "aa2020bf-1092-4399-e836-8bf4b88d6d31"
      },
      "execution_count": null,
      "outputs": [
        {
          "output_type": "stream",
          "name": "stdout",
          "text": [
            "Most confident: P=0.0011745903380500661\n",
            "Least confident: P=0.5050096704096069\n"
          ]
        }
      ]
    },
    {
      "cell_type": "markdown",
      "source": [
        "# Part 7: Sklearn"
      ],
      "metadata": {
        "id": "35XtFkV2Cu8L"
      }
    },
    {
      "cell_type": "code",
      "source": [
        "from sklearn.linear_model import LogisticRegression as SklearnLogistic\n",
        "\n",
        "# train sklearn model\n",
        "sklearn_model = SklearnLogistic(max_iter=1000, random_state=42)\n",
        "sklearn_model.fit(X_train, y_train)\n",
        "\n",
        "sklearn_train_acc = sklearn_model.score(X_train, y_train)\n",
        "sklearn_test_acc = sklearn_model.score(X_test, y_test)\n",
        "\n",
        "print(f\"Sklearn - train: {sklearn_train_acc:}\")\n",
        "print(f\"Sklearn -  test: {sklearn_test_acc:}\")"
      ],
      "metadata": {
        "colab": {
          "base_uri": "https://localhost:8080/"
        },
        "id": "f60acJyq8i1c",
        "outputId": "b8d7271b-0504-4c95-c2c5-046f320693f0"
      },
      "execution_count": null,
      "outputs": [
        {
          "output_type": "stream",
          "name": "stdout",
          "text": [
            "Sklearn - train: 0.8869346733668342\n",
            "Sklearn -  test: 0.9064327485380117\n"
          ]
        }
      ]
    },
    {
      "cell_type": "markdown",
      "source": [
        "------------------------"
      ],
      "metadata": {
        "id": "J2pU4KFbJOpB"
      }
    },
    {
      "cell_type": "markdown",
      "source": [
        "---------------"
      ],
      "metadata": {
        "id": "4-JLX_W4JRdv"
      }
    },
    {
      "cell_type": "markdown",
      "source": [
        "-------------------"
      ],
      "metadata": {
        "id": "c55ni-3JJSne"
      }
    },
    {
      "cell_type": "markdown",
      "source": [
        "\n",
        "# Task 1: Implement prediction threshold analysis\n",
        "\n",
        "Hint: Try different thresholds (0.3, 0.5, 0.7) and see how accuracy changes\n",
        "\n",
        "# Task 2: Add L2 regularization to the model\n",
        "\n",
        "Hint: Add $\\lambda||\\theta||^2$ term to the loss and λθ to the gradient\n",
        "\n",
        "# Task 3: Implement mini-batch gradient descent\n",
        "\n",
        "Hint: Instead of using all samples, randomly select a batch for each update\n",
        "\n"
      ],
      "metadata": {
        "id": "CRsnn5X8JUqz"
      }
    },
    {
      "cell_type": "markdown",
      "source": [
        "-----------------------------------------"
      ],
      "metadata": {
        "id": "ItIeWnqbJ-ZG"
      }
    },
    {
      "cell_type": "markdown",
      "source": [
        "*Sapere aude*"
      ],
      "metadata": {
        "id": "PUHe4ixJKAsz"
      }
    },
    {
      "cell_type": "code",
      "source": [],
      "metadata": {
        "id": "NER_A1GiHO8D"
      },
      "execution_count": null,
      "outputs": []
    },
    {
      "cell_type": "code",
      "source": [],
      "metadata": {
        "id": "cHmDIMCrHQap"
      },
      "execution_count": null,
      "outputs": []
    },
    {
      "cell_type": "code",
      "source": [],
      "metadata": {
        "id": "06xQpDG2HhWm"
      },
      "execution_count": null,
      "outputs": []
    },
    {
      "cell_type": "code",
      "source": [],
      "metadata": {
        "id": "M_aPY3dfHiPy"
      },
      "execution_count": null,
      "outputs": []
    }
  ]
}