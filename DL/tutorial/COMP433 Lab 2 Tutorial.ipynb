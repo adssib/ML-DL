{
 "cells": [
  {
   "cell_type": "markdown",
   "id": "1f000da0",
   "metadata": {},
   "source": [
    "# COMP 433 Deep Learning Lab Tutorial 2\n",
    "\n",
    "In this lab tutorial we will cover aspects such as data visualization, multi-class classification, and hyperparameter tunning."
   ]
  },
  {
   "cell_type": "markdown",
   "id": "d233356e",
   "metadata": {},
   "source": [
    "<div style=\"border-bottom: 3px solid black;\"></div>\n",
    "\n",
    "## 1) Data Visualization (Sklearn + Matplotlib)\n",
    "\n",
    "Why Visualize Data?\n",
    "\n",
    "- Visualizations help us gain insights into the dataset by showing patterns or trends that might not be immediately apparent from raw data.\n",
    "- It is especially useful in understanding relationships between features, class distributions, and spotting any anomalies or missing values."
   ]
  },
  {
   "cell_type": "code",
   "execution_count": 41,
   "id": "8852f8b6",
   "metadata": {},
   "outputs": [],
   "source": [
    "import matplotlib.pyplot as plt\n",
    "import sklearn\n",
    "from sklearn import datasets\n",
    "import pandas as pd"
   ]
  },
  {
   "cell_type": "markdown",
   "id": "a726eeac",
   "metadata": {},
   "source": [
    "Import the Iris dataset from Sklearn\n",
    "\n",
    "This data sets consists of 3 different types of irises’ (Setosa, Versicolour, and Virginica) petal and sepal length, stored in a **150x4** numpy.ndarray. The rows being the samples and the columns being: Sepal Length, Sepal Width, Petal Length and Petal Width."
   ]
  },
  {
   "cell_type": "code",
   "execution_count": 5,
   "id": "f32639e3",
   "metadata": {},
   "outputs": [],
   "source": [
    "# Load the iris dataset\n",
    "iris = datasets.load_iris()"
   ]
  },
  {
   "cell_type": "markdown",
   "id": "69eb01b5",
   "metadata": {},
   "source": [
    "⚠️ A good exercise is to always check the shape of your data to get an idea about how many data samples exists and how many features there are!\n",
    "\n",
    "If you run the cell below you will notice that the Iris dataset has 150 samples (very small dataset) and each sample has 4 features"
   ]
  },
  {
   "cell_type": "code",
   "execution_count": 9,
   "id": "9ce0d587",
   "metadata": {},
   "outputs": [
    {
     "data": {
      "text/plain": [
       "(150, 4)"
      ]
     },
     "execution_count": 9,
     "metadata": {},
     "output_type": "execute_result"
    }
   ],
   "source": [
    "iris.data.shape"
   ]
  },
  {
   "cell_type": "markdown",
   "id": "2577ba66",
   "metadata": {},
   "source": [
    "We can also put the Iris dataset in a Pandas dataframe which is sometimes useful for visualization tasks"
   ]
  },
  {
   "cell_type": "code",
   "execution_count": 15,
   "id": "cb5c952c",
   "metadata": {},
   "outputs": [
    {
     "data": {
      "text/html": [
       "<div>\n",
       "<style scoped>\n",
       "    .dataframe tbody tr th:only-of-type {\n",
       "        vertical-align: middle;\n",
       "    }\n",
       "\n",
       "    .dataframe tbody tr th {\n",
       "        vertical-align: top;\n",
       "    }\n",
       "\n",
       "    .dataframe thead th {\n",
       "        text-align: right;\n",
       "    }\n",
       "</style>\n",
       "<table border=\"1\" class=\"dataframe\">\n",
       "  <thead>\n",
       "    <tr style=\"text-align: right;\">\n",
       "      <th></th>\n",
       "      <th>sepal length (cm)</th>\n",
       "      <th>sepal width (cm)</th>\n",
       "      <th>petal length (cm)</th>\n",
       "      <th>petal width (cm)</th>\n",
       "    </tr>\n",
       "  </thead>\n",
       "  <tbody>\n",
       "    <tr>\n",
       "      <th>0</th>\n",
       "      <td>5.1</td>\n",
       "      <td>3.5</td>\n",
       "      <td>1.4</td>\n",
       "      <td>0.2</td>\n",
       "    </tr>\n",
       "    <tr>\n",
       "      <th>1</th>\n",
       "      <td>4.9</td>\n",
       "      <td>3.0</td>\n",
       "      <td>1.4</td>\n",
       "      <td>0.2</td>\n",
       "    </tr>\n",
       "    <tr>\n",
       "      <th>2</th>\n",
       "      <td>4.7</td>\n",
       "      <td>3.2</td>\n",
       "      <td>1.3</td>\n",
       "      <td>0.2</td>\n",
       "    </tr>\n",
       "    <tr>\n",
       "      <th>3</th>\n",
       "      <td>4.6</td>\n",
       "      <td>3.1</td>\n",
       "      <td>1.5</td>\n",
       "      <td>0.2</td>\n",
       "    </tr>\n",
       "    <tr>\n",
       "      <th>4</th>\n",
       "      <td>5.0</td>\n",
       "      <td>3.6</td>\n",
       "      <td>1.4</td>\n",
       "      <td>0.2</td>\n",
       "    </tr>\n",
       "    <tr>\n",
       "      <th>...</th>\n",
       "      <td>...</td>\n",
       "      <td>...</td>\n",
       "      <td>...</td>\n",
       "      <td>...</td>\n",
       "    </tr>\n",
       "    <tr>\n",
       "      <th>145</th>\n",
       "      <td>6.7</td>\n",
       "      <td>3.0</td>\n",
       "      <td>5.2</td>\n",
       "      <td>2.3</td>\n",
       "    </tr>\n",
       "    <tr>\n",
       "      <th>146</th>\n",
       "      <td>6.3</td>\n",
       "      <td>2.5</td>\n",
       "      <td>5.0</td>\n",
       "      <td>1.9</td>\n",
       "    </tr>\n",
       "    <tr>\n",
       "      <th>147</th>\n",
       "      <td>6.5</td>\n",
       "      <td>3.0</td>\n",
       "      <td>5.2</td>\n",
       "      <td>2.0</td>\n",
       "    </tr>\n",
       "    <tr>\n",
       "      <th>148</th>\n",
       "      <td>6.2</td>\n",
       "      <td>3.4</td>\n",
       "      <td>5.4</td>\n",
       "      <td>2.3</td>\n",
       "    </tr>\n",
       "    <tr>\n",
       "      <th>149</th>\n",
       "      <td>5.9</td>\n",
       "      <td>3.0</td>\n",
       "      <td>5.1</td>\n",
       "      <td>1.8</td>\n",
       "    </tr>\n",
       "  </tbody>\n",
       "</table>\n",
       "<p>150 rows × 4 columns</p>\n",
       "</div>"
      ],
      "text/plain": [
       "     sepal length (cm)  sepal width (cm)  petal length (cm)  petal width (cm)\n",
       "0                  5.1               3.5                1.4               0.2\n",
       "1                  4.9               3.0                1.4               0.2\n",
       "2                  4.7               3.2                1.3               0.2\n",
       "3                  4.6               3.1                1.5               0.2\n",
       "4                  5.0               3.6                1.4               0.2\n",
       "..                 ...               ...                ...               ...\n",
       "145                6.7               3.0                5.2               2.3\n",
       "146                6.3               2.5                5.0               1.9\n",
       "147                6.5               3.0                5.2               2.0\n",
       "148                6.2               3.4                5.4               2.3\n",
       "149                5.9               3.0                5.1               1.8\n",
       "\n",
       "[150 rows x 4 columns]"
      ]
     },
     "execution_count": 15,
     "metadata": {},
     "output_type": "execute_result"
    }
   ],
   "source": [
    "# Put the Iris data in a Pandas dataframe\n",
    "df = pd.DataFrame(iris.data, columns=iris.feature_names)\n",
    "df"
   ]
  },
  {
   "cell_type": "markdown",
   "id": "4a711f8d",
   "metadata": {},
   "source": [
    "🤓Let's see how that looks like with Matplotlib"
   ]
  },
  {
   "cell_type": "code",
   "execution_count": 16,
   "id": "c1fe1a64",
   "metadata": {},
   "outputs": [
    {
     "data": {
      "image/png": "[encoded data removed]",
      "text/plain": [
       "<Figure size 720x576 with 4 Axes>"
      ]
     },
     "metadata": {
      "needs_background": "light"
     },
     "output_type": "display_data"
    }
   ],
   "source": [
    "plt.figure(figsize=(10, 8))\n",
    "\n",
    "# Loop over each column to create a histogram\n",
    "for i, column in enumerate(df.columns):\n",
    "    plt.subplot(2, 2, i + 1)  # Create a 2x2 grid for the histograms\n",
    "    \n",
    "    # Divide the values into \"bins\"\n",
    "    plt.hist(df[column], bins=10, color='lightblue', edgecolor='black')  \n",
    "    \n",
    "    # Plot settings\n",
    "    plt.title(f'{column}')  # Title for each plot\n",
    "    plt.xlabel(column)      # X-axis label\n",
    "    plt.ylabel('Count')     # Y-axis label\n",
    "\n",
    "# Show the histograms\n",
    "plt.tight_layout()\n",
    "plt.show()"
   ]
  },
  {
   "cell_type": "markdown",
   "id": "9a791147",
   "metadata": {},
   "source": [
    "⚠️The Iris dataset is 4 dimensional dataset (4 features!). Therefore, you could either visualize each two dimensions at a time or you could employ dimensionality reduction techniques such as PCA or T-SNE to visualize the data in a lower dimension (i.e. 2 or 3 dimensions). For the sake of simplicity let us do a scatter plot of just two feature ofthe Iris dataset using Matplotlib"
   ]
  },
  {
   "cell_type": "code",
   "execution_count": 25,
   "id": "2eada220",
   "metadata": {},
   "outputs": [
    {
     "data": {
      "image/png": "[encoded data removed]",
      "text/plain": [
       "<Figure size 432x288 with 1 Axes>"
      ]
     },
     "metadata": {
      "needs_background": "light"
     },
     "output_type": "display_data"
    }
   ],
   "source": [
    "plt.figure(figsize=(6, 4))\n",
    "\n",
    "# Scatter plot\n",
    "scatter = plt.scatter(iris.data[:, 0], iris.data[:, 1], c=iris.target, cmap='viridis')\n",
    "\n",
    "# Add labels to the axes\n",
    "plt.xlabel(iris.feature_names[0])  # Sepal Length\n",
    "plt.ylabel(iris.feature_names[1])  # Sepal Width\n",
    "\n",
    "# Step 4: Add a legend\n",
    "legend_labels = iris.target_names              # Get species names (Setosa, Versicolor, Virginica)\n",
    "legend_handles = scatter.legend_elements()[0]  # Get handles (colored dots for the legend)\n",
    "plt.legend(legend_handles, legend_labels, title=\"Classes\", loc=\"lower right\")\n",
    "\n",
    "# Step 5: Show the plot\n",
    "plt.show()\n"
   ]
  },
  {
   "cell_type": "markdown",
   "id": "8ebe8a6b",
   "metadata": {},
   "source": [
    "<div style=\"border-bottom: 3px solid black;\"></div>\n",
    "\n",
    "## 2) Multi-class Classification"
   ]
  },
  {
   "cell_type": "code",
   "execution_count": 26,
   "id": "bf0d6a36",
   "metadata": {},
   "outputs": [],
   "source": [
    "from sklearn.model_selection import train_test_split\n",
    "from sklearn.linear_model import LogisticRegression\n",
    "from sklearn.metrics import classification_report\n"
   ]
  },
  {
   "cell_type": "code",
   "execution_count": 27,
   "id": "baa9bca3",
   "metadata": {},
   "outputs": [
    {
     "name": "stdout",
     "output_type": "stream",
     "text": [
      "              precision    recall  f1-score   support\n",
      "\n",
      "           0       1.00      1.00      1.00        19\n",
      "           1       1.00      1.00      1.00        13\n",
      "           2       1.00      1.00      1.00        13\n",
      "\n",
      "    accuracy                           1.00        45\n",
      "   macro avg       1.00      1.00      1.00        45\n",
      "weighted avg       1.00      1.00      1.00        45\n",
      "\n"
     ]
    }
   ],
   "source": [
    "# Splitting the data\n",
    "X_train, X_test, y_train, y_test = train_test_split(iris.data, iris.target, test_size=0.3, random_state=42)\n",
    "\n",
    "# Logistic Regression for multi-class classification\n",
    "model = LogisticRegression(max_iter=200)\n",
    "model.fit(X_train, y_train)\n",
    "\n",
    "# Predictions and report\n",
    "y_pred = model.predict(X_test)\n",
    "print(classification_report(y_test, y_pred))\n"
   ]
  },
  {
   "cell_type": "markdown",
   "id": "d3733a0c",
   "metadata": {},
   "source": [
    "<div style=\"border-bottom: 3px solid black;\"></div>\n",
    "\n",
    "## 3) Hyperparameter Tunning \n",
    "\n",
    "**Hyperparameter search** is a particular *model selection* procedure that focuses on selecting one model from a family of related models. Hyperparameter search can therefore be seen as a \"model tuning\" procedure. A good hyperparameter search procedure will find good hyperparameters (hyperparameters estimated to have good test-time performance) using very few \"attempts\", since each attempt requires performing cross validation and this can be computationally demanding.\n",
    "\n",
    "To see what this means, let's train an RBF SVM on the training data using different hyperparameter settings. The specific hyperparameters that you will inspect are C (the slack penalty) and the gamma (the RBF kernel spread).\n"
   ]
  },
  {
   "cell_type": "code",
   "execution_count": 38,
   "id": "33135a0c",
   "metadata": {},
   "outputs": [],
   "source": [
    "from sklearn.model_selection import GridSearchCV, RandomizedSearchCV\n",
    "import numpy as np"
   ]
  },
  {
   "cell_type": "code",
   "execution_count": 40,
   "id": "9fc6ae4b",
   "metadata": {},
   "outputs": [],
   "source": [
    "# Grid parameters C and Gamma\n",
    "C_var=np.logspace(0,3,4)\n",
    "gamma_var=np.logspace(-2,1,num=4)"
   ]
  },
  {
   "cell_type": "code",
   "execution_count": 42,
   "id": "05aadd51",
   "metadata": {},
   "outputs": [
    {
     "name": "stdout",
     "output_type": "stream",
     "text": [
      "93.3% training accuracy for C= 1.0 and gamma= 0.01\n",
      "96.2% training accuracy for C= 1.0 and gamma= 0.1\n",
      "99.0% training accuracy for C= 1.0 and gamma= 1.0\n",
      "100.0% training accuracy for C= 1.0 and gamma= 10.0\n",
      "96.2% training accuracy for C= 10.0 and gamma= 0.01\n",
      "98.1% training accuracy for C= 10.0 and gamma= 0.1\n",
      "98.1% training accuracy for C= 10.0 and gamma= 1.0\n",
      "100.0% training accuracy for C= 10.0 and gamma= 10.0\n",
      "98.1% training accuracy for C= 100.0 and gamma= 0.01\n",
      "97.1% training accuracy for C= 100.0 and gamma= 0.1\n",
      "99.0% training accuracy for C= 100.0 and gamma= 1.0\n",
      "100.0% training accuracy for C= 100.0 and gamma= 10.0\n",
      "95.2% training accuracy for C= 1000.0 and gamma= 0.01\n",
      "98.1% training accuracy for C= 1000.0 and gamma= 0.1\n",
      "100.0% training accuracy for C= 1000.0 and gamma= 1.0\n",
      "100.0% training accuracy for C= 1000.0 and gamma= 10.0\n"
     ]
    }
   ],
   "source": [
    "# Training several SVM models with different hyperparameters\n",
    "for c in range(len(C_var)):\n",
    "    for g in range(len(gamma_var)):\n",
    "        clf=sklearn.svm.SVC(C=C_var[c],kernel='rbf',gamma=gamma_var[g])\n",
    "        svm=clf.fit(X_train,y_train)\n",
    "        acc_training= sklearn.metrics.accuracy_score(y_train,svm.predict(X_train))*100\n",
    "        print(f\"{acc_training:.1f}% training accuracy for C= {C_var[c]} and gamma= {gamma_var[g]}\")"
   ]
  },
  {
   "cell_type": "markdown",
   "id": "f810052b",
   "metadata": {},
   "source": [
    "🤓Notice how the training accuracy changes with changing hyperparameters!\n",
    "\n",
    "Now let's do grid search to fit out the hyperparmeters that would lead to the best performance using GridSearchCV"
   ]
  },
  {
   "cell_type": "code",
   "execution_count": 52,
   "id": "339252b6",
   "metadata": {},
   "outputs": [
    {
     "name": "stdout",
     "output_type": "stream",
     "text": [
      "Fitting 3 folds for each of 16 candidates, totalling 48 fits\n",
      "The validation score is 96.19%\n"
     ]
    }
   ],
   "source": [
    "# Parameter Grid\n",
    "param_grid={'C':C_var,'gamma': gamma_var}\n",
    "\n",
    "# Grid Search\n",
    "GridSearchCV=sklearn.model_selection.GridSearchCV(clf, param_grid,verbose=1,cv=3)\n",
    "model = GridSearchCV.fit(X_train,y_train)\n",
    "\n",
    "# The best parameters\n",
    "C = GridSearchCV.best_params_[\"C\"]\n",
    "gamma = GridSearchCV.best_params_[\"gamma\"]\n",
    "\n",
    "print(f\"The validation score is {GridSearchCV.best_score_*100:.2f}%\")"
   ]
  },
  {
   "cell_type": "markdown",
   "id": "1b340154",
   "metadata": {},
   "source": [
    "Grid Hyperparameter search can be seen as an exhuastive search approach to find the best model congifuration. However, it is not necessarily the best, especially in terms of computation efficiency. Thus, random hyperparameter search has been applied widely in various research studies.\n",
    "\n",
    "**<u>Random hyerperarameter search</u>** does not take a list of grid values, but instead takes distributions that it samples hperparameters from.  \n",
    "\n",
    "Thus, using a properly distribution for sampling the hyperparameters would be very important. For example, if we sampled from a uniform distribution ([scipy.stats.uniform](https://docs.scipy.org/doc/scipy/reference/generated/scipy.stats.uniform.html)) in range $[1, 1000]$, there's only a 1\\% chance that we'd sample a value between $1$ and $10$. Instead, we can sample from the *reciprocal* distribution ([scipy.stats.reciprocal](https://docs.scipy.org/doc/scipy/reference/generated/scipy.stats.reciprocal.html)) which has logarithmic spacing between samples. A reciprocal distribution over range $[1, 1000]$ has the same chance of drawing a sample in range $[1, 10]$ as it does in range $[10, 100]$ or in range $[100, 1000]$. It is therefore also called a *log uniform* distribution.\n"
   ]
  },
  {
   "cell_type": "code",
   "execution_count": 54,
   "id": "2193431c",
   "metadata": {},
   "outputs": [],
   "source": [
    "import scipy"
   ]
  },
  {
   "cell_type": "code",
   "execution_count": 70,
   "id": "20525df3",
   "metadata": {},
   "outputs": [
    {
     "name": "stdout",
     "output_type": "stream",
     "text": [
      "The validation score is 97.14%\n"
     ]
    }
   ],
   "source": [
    "clf=sklearn.svm.SVC(kernel='rbf')\n",
    "param_distributions=dict(C=scipy.stats.reciprocal(1, 1000),gamma=scipy.stats.reciprocal(0.01, 10))\n",
    "\n",
    "# Random Search\n",
    "RndSearchCV=sklearn.model_selection.RandomizedSearchCV(clf,param_distributions,cv=5,n_iter=30,random_state=0)\n",
    "RndSearchCV.fit(X_train,y_train)\n",
    "\n",
    "# The best parameters\n",
    "C = RndSearchCV.best_params_[\"C\"]\n",
    "gamma = RndSearchCV.best_params_[\"gamma\"]\n",
    "\n",
    "print(f\"The validation score is {RndSearchCV.best_score_*100:.2f}%\")"
   ]
  },
  {
   "cell_type": "markdown",
   "id": "90775ba8",
   "metadata": {},
   "source": [
    "## K- Nearest Neighbor (KNN) Classifier/Regressor\n",
    "\n",
    "A KNN classifier does not attempt to construct a general internal model, but simply stores instances of the training data. Classification is computed from a simple **majority vote** of the nearest neighbors of each point: a query point is assigned the data class which has the most representatives within the nearest neighbors of the point.\n",
    "\n",
    "The pseudocode looks something like so: \n",
    "\n",
    "1. Load the training and test data (Already done above with the Iris dataset)\n",
    "2. Choose the value of K (hyperparameter!)\n",
    "3. For each point in test data:\n",
    "       - find the Euclidean distance to all training data points (you can use the distances fn you implemented in Lab1)\n",
    "       - store the Euclidean distances in a list and sort it \n",
    "       - choose the first k points \n",
    "       - assign a class to the test point based on the majority of classes present in the chosen points\n",
    "4. End "
   ]
  }
 ],
 "metadata": {
  "kernelspec": {
   "display_name": "Python 3",
   "language": "python",
   "name": "python3"
  },
  "language_info": {
   "codemirror_mode": {
    "name": "ipython",
    "version": 3
   },
   "file_extension": ".py",
   "mimetype": "text/x-python",
   "name": "python",
   "nbconvert_exporter": "python",
   "pygments_lexer": "ipython3",
   "version": "3.9.3"
  }
 },
 "nbformat": 4,
 "nbformat_minor": 5
}
